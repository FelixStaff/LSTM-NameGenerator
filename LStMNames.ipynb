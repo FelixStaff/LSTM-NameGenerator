{
 "cells": [
  {
   "cell_type": "code",
   "execution_count": 2,
   "metadata": {},
   "outputs": [
    {
     "name": "stdout",
     "output_type": "stream",
     "text": [
      "# categories: 18 ['Arabic', 'Chinese', 'Czech', 'Dutch', 'English', 'French', 'German', 'Greek', 'Irish', 'Italian', 'Japanese', 'Korean', 'Polish', 'Portuguese', 'Russian', 'Scottish', 'Spanish', 'Vietnamese']\n",
      "O'Neal\n"
     ]
    }
   ],
   "source": [
    "from __future__ import unicode_literals, print_function, division\n",
    "from io import open\n",
    "import glob\n",
    "import os\n",
    "import unicodedata\n",
    "import string\n",
    "import torch as T\n",
    "import torch as torch\n",
    "import torch.nn as nn\n",
    "import torch.nn.functional as F\n",
    "import torch.optim as optim\n",
    "\n",
    "all_letters = string.ascii_letters + \" .,;'-\"\n",
    "n_letters = len(all_letters) + 1 # Plus EOS marker\n",
    "\n",
    "def findFiles(path): return glob.glob(path)\n",
    "\n",
    "# Turn a Unicode string to plain ASCII, thanks to https://stackoverflow.com/a/518232/2809427\n",
    "def unicodeToAscii(s):\n",
    "    return ''.join(\n",
    "        c for c in unicodedata.normalize('NFD', s)\n",
    "        if unicodedata.category(c) != 'Mn'\n",
    "        and c in all_letters\n",
    "    )\n",
    "\n",
    "# Read a file and split into lines\n",
    "def readLines(filename):\n",
    "    with open(filename, encoding='utf-8') as some_file:\n",
    "        return [unicodeToAscii(line.strip()) for line in some_file]\n",
    "\n",
    "# Build the category_lines dictionary, a list of lines per category\n",
    "category_lines = {}\n",
    "all_categories = []\n",
    "for filename in findFiles('data/names/*.txt'):\n",
    "    category = os.path.splitext(os.path.basename(filename))[0]\n",
    "    all_categories.append(category)\n",
    "    lines = readLines(filename)\n",
    "    category_lines[category] = lines\n",
    "\n",
    "n_categories = len(all_categories)\n",
    "\n",
    "if n_categories == 0:\n",
    "    raise RuntimeError('Data not found. Make sure that you downloaded data '\n",
    "        'from https://download.pytorch.org/tutorial/data.zip and extract it to '\n",
    "        'the current directory.')\n",
    "\n",
    "print('# categories:', n_categories, all_categories)\n",
    "print(unicodeToAscii(\"O'Néàl\"))"
   ]
  },
  {
   "cell_type": "code",
   "execution_count": 3,
   "metadata": {},
   "outputs": [],
   "source": [
    "device = T.device('cuda' if T.cuda.is_available() else 'cpu')"
   ]
  },
  {
   "cell_type": "code",
   "execution_count": 4,
   "metadata": {},
   "outputs": [],
   "source": [
    "import random\n",
    "# Random item from a list\n",
    "def randomChoice(l):\n",
    "    return l[random.randint(0, len(l) - 1)]\n",
    "\n",
    "# Get a random category and random line from that category\n",
    "def randomTrainingPair():\n",
    "    category = randomChoice(all_categories)\n",
    "    line = randomChoice(category_lines[category])\n",
    "    return category, line"
   ]
  },
  {
   "cell_type": "code",
   "execution_count": 5,
   "metadata": {},
   "outputs": [],
   "source": [
    "# One-hot vector for category\n",
    "def categoryTensor(category):\n",
    "    li = all_categories.index(category)\n",
    "    tensor = T.zeros(1, n_categories)\n",
    "    tensor[0][li] = 1\n",
    "    return tensor\n",
    "\n",
    "# One-hot matrix of first to last letters (not including EOS) for input\n",
    "def inputTensor(line):\n",
    "    tensor = T.zeros(len(line), 1, n_letters)\n",
    "    for li in range(len(line)):\n",
    "        letter = line[li]\n",
    "        tensor[li][0][all_letters.find(letter)] = 1\n",
    "    return tensor\n",
    "\n",
    "# LongTensor of second letter to end (EOS) for target\n",
    "def targetTensor(line):\n",
    "    letter_indexes = [all_letters.find(line[li]) for li in range(1, len(line))]\n",
    "    letter_indexes.append(n_letters - 1) # EOS\n",
    "    return T.LongTensor(letter_indexes)"
   ]
  },
  {
   "cell_type": "code",
   "execution_count": 6,
   "metadata": {},
   "outputs": [],
   "source": [
    "# Make category, input, and target tensors from a random category, line pair\n",
    "def randomTrainingExample():\n",
    "    category, line = randomTrainingPair()\n",
    "    category_tensor = categoryTensor(category)\n",
    "    input_line_tensor = inputTensor(line)\n",
    "    target_line_tensor = targetTensor(line)\n",
    "    return category_tensor, input_line_tensor, target_line_tensor"
   ]
  },
  {
   "cell_type": "code",
   "execution_count": 7,
   "metadata": {},
   "outputs": [],
   "source": [
    "#Create the memory network\n",
    "class MemNet2(nn.Module):\n",
    "    def __init__(self, input_size, hidden_size, output_size, memory_size,\n",
    "                 forget_rate=0.5, device='cpu'):\n",
    "        super(MemNet2, self).__init__()\n",
    "        self.input_size = input_size\n",
    "        self.hidden_size = hidden_size\n",
    "        self.output_size = output_size\n",
    "        self.memory_size = memory_size\n",
    "        self.forget_rate = forget_rate\n",
    "        self.device = device\n",
    "        # Make the memory cell\n",
    "        self.M_l = nn.Parameter(T.zeros(self.memory_size)).to(self.device)\n",
    "        #Make the model following the architecture above\n",
    "        self.f_t = nn.Linear(input_size + n_categories + hidden_size, memory_size)\n",
    "        self.f_t_sigmoid = nn.Sigmoid()\n",
    "        self.g_t = nn.Linear(input_size + n_categories + hidden_size, memory_size)\n",
    "        self.g_t_sigmoid = nn.Sigmoid()\n",
    "        self.o_t = nn.Linear(input_size + n_categories + hidden_size, memory_size)\n",
    "        self.o_t_tanh = nn.Tanh()\n",
    "        self.d_t = nn.Linear(input_size + n_categories + hidden_size, hidden_size)\n",
    "        self.d_t_sigmoid = nn.Sigmoid()\n",
    "        self.Out = nn.Linear(memory_size + hidden_size, output_size)\n",
    "        self.Out_softmax = nn.LogSoftmax(dim=1)\n",
    "        self.L_t = nn.Linear(memory_size + hidden_size, memory_size)\n",
    "        self.L_t_tanh = nn.Tanh()\n",
    "    def forward(self, category, x_t, h_t_prev, c_t_prev):\n",
    "        Cat_inp = T.cat((category, x_t, h_t_prev), dim=1)\n",
    "        f_t = self.f_t_sigmoid(self.f_t(Cat_inp))\n",
    "        g_t = self.g_t_sigmoid(self.g_t(Cat_inp))\n",
    "        o_t = T.tanh(self.o_t(Cat_inp))\n",
    "        d_t = self.d_t_sigmoid(self.d_t(Cat_inp))\n",
    "        F_C_t = f_t * c_t_prev\n",
    "        D_C_t = g_t * o_t\n",
    "        S_C_t = F_C_t + D_C_t\n",
    "        C_t = F.tanh(self.M_l * S_C_t)\n",
    "        Cat_L = T.cat((C_t, d_t), dim=1)\n",
    "        L_t = T.tanh(self.L_t(Cat_L))\n",
    "        self.M_l = (self.M_l.add(self.forget_rate * L_t)).clone()\n",
    "        output = self.Out_softmax(self.Out(Cat_L))\n",
    "        h_t = C_t * d_t\n",
    "        return output, h_t, C_t\n",
    "    def init_hidden(self):\n",
    "        return (T.zeros(1, self.hidden_size, device=self.device),\n",
    "                T.zeros(1, self.memory_size, device=self.device))\n",
    "    def reset_memory(self):\n",
    "        self.M_l = nn.Parameter(T.zeros(self.memory_size)).to(self.device)"
   ]
  },
  {
   "cell_type": "code",
   "execution_count": 8,
   "metadata": {},
   "outputs": [],
   "source": [
    "#Create the memory network\n",
    "class MemNet3(nn.Module):\n",
    "    def __init__(self, input_size, hidden_size, output_size, memory_size,\n",
    "                 forget_rate=0.5, device='cpu'):\n",
    "        super(MemNet3, self).__init__()\n",
    "        self.input_size = input_size\n",
    "        self.hidden_size = hidden_size\n",
    "        self.output_size = output_size\n",
    "        self.memory_size = memory_size\n",
    "        self.forget_rate = forget_rate\n",
    "        self.device = device\n",
    "        # Make the memory cell\n",
    "        self.M_l = nn.Parameter(T.zeros(self.memory_size)).to(self.device)\n",
    "        #Make the model following the architecture above\n",
    "        self.f_t = nn.Linear(input_size + n_categories + hidden_size, memory_size)\n",
    "        self.f_t_sigmoid = nn.Sigmoid()\n",
    "        self.g_t = nn.Linear(input_size + n_categories + hidden_size, memory_size)\n",
    "        self.g_t_sigmoid = nn.Sigmoid()\n",
    "        self.y_t = nn.Linear(input_size + n_categories + hidden_size, memory_size)\n",
    "        self.y_t_sigmoid = nn.Sigmoid()\n",
    "        self.d_t = nn.Linear(input_size + n_categories + hidden_size, hidden_size)\n",
    "        self.Out = nn.Linear(memory_size + hidden_size, output_size)\n",
    "        self.Out_softmax = nn.LogSoftmax(dim=1)\n",
    "        self.L_t = nn.Linear(memory_size + hidden_size, memory_size)\n",
    "        self.L_t_tanh = nn.Tanh()\n",
    "    def forward(self, category, x_t, h_t_prev, c_t_prev):\n",
    "        Cat_inp = T.cat((category, x_t, h_t_prev), dim=1)\n",
    "        f_t = self.f_t_sigmoid(self.f_t(Cat_inp))\n",
    "        g_t = self.g_t_sigmoid(self.g_t(Cat_inp))\n",
    "        o_t = T.tanh(self.d_t(Cat_inp))\n",
    "        y_t = self.y_t_sigmoid(self.y_t(Cat_inp))\n",
    "        F_C_t = f_t * c_t_prev\n",
    "        G_D_t = g_t * o_t\n",
    "        F_G_D_t = F_C_t + G_D_t\n",
    "        C_t = self.M_l * F_G_D_t\n",
    "        L_t = T.tanh(self.L_t(T.cat((C_t, y_t), dim=1)))\n",
    "        self.M_l = (self.M_l.add(self.forget_rate * L_t)).clone()\n",
    "        h_t = T.tanh(C_t) * y_t\n",
    "        output = self.Out_softmax(self.Out(T.cat((C_t, h_t), dim=1)))\n",
    "        #print (output.shape)\n",
    "        return output, h_t, C_t\n",
    "    def init_hidden(self):\n",
    "        return (T.zeros(1, self.hidden_size, device=self.device),\n",
    "                T.zeros(1, self.memory_size, device=self.device))\n",
    "    def reset_memory(self):\n",
    "        self.M_l = nn.Parameter(T.zeros(self.memory_size)).to(self.device)"
   ]
  },
  {
   "cell_type": "code",
   "execution_count": 22,
   "metadata": {},
   "outputs": [],
   "source": [
    "class LSTM(nn.Module):\n",
    "    def __init__(self, input_size, hidden_size, output_size, device='cpu'):\n",
    "        super(LSTM, self).__init__()\n",
    "        self.input_size = input_size\n",
    "        self.hidden_size = hidden_size\n",
    "        self.output_size = output_size\n",
    "        self.LSTM = nn.LSTM(input_size + n_categories, hidden_size, batch_first=True, bidirectional=False)\n",
    "        self.Out = nn.Linear(hidden_size, output_size)  # output layer\n",
    "        self.Out_softmax = nn.LogSoftmax(dim=1)\n",
    "        self.device = device\n",
    "    def forward(self,n_categories, x, h_t_prev, c_t_prev):\n",
    "        #print (x.shape)\n",
    "        Cat_inp = T.cat((n_categories,x), dim=1)\n",
    "        output, (h_t, c_t) = self.LSTM(Cat_inp, (h_t_prev, c_t_prev))\n",
    "        #print (output.shape)\n",
    "        output = self.Out_softmax(self.Out(output))\n",
    "        return output, h_t, c_t\n",
    "    def init_hidden(self):\n",
    "        return (T.zeros(1, self.hidden_size, device=self.device),\n",
    "                T.zeros(1, self.hidden_size, device=self.device))\n"
   ]
  },
  {
   "cell_type": "code",
   "execution_count": 17,
   "metadata": {},
   "outputs": [
    {
     "data": {
      "text/plain": [
       "'Cat_inp = T.cat((category, x_t, h_t_prev), dim=1)\\n        f_t = self.f_t(Cat_inp)\\n        f_t_sigmoid = T.sigmoid(f_t)\\n        g_t = self.g_t(Cat_inp)\\n        g_t_sigmoid = T.sigmoid(g_t)\\n        o_t = self.y_t(Cat_inp)\\n        o_t = T.tanh(self.d_t(Cat_inp))\\n        y_t = self.y_t_sigmoid(self.y_t(Cat_inp))\\n        F_C_t = f_t * c_t_prev\\n        G_D_t = g_t * o_t\\n        F_G_D_t = F_C_t + G_D_t\\n        C_t = self.M_l * F_G_D_t\\n        L_t = T.tanh(self.L_t(T.cat((C_t, y_t), dim=1)))\\n        self.M_l = (self.M_l.add(self.forget_rate * L_t)).clone()\\n        h_t = T.tanh(C_t) * y_t\\n        output = self.Out_softmax(self.Out(T.cat((C_t, h_t), dim=1)))\\n        #print (output.shape)\\n        return output, h_t, C_t'"
      ]
     },
     "execution_count": 17,
     "metadata": {},
     "output_type": "execute_result"
    }
   ],
   "source": [
    "\"\"\"Cat_inp = T.cat((category, x_t, h_t_prev), dim=1)\n",
    "        f_t = self.f_t(Cat_inp)\n",
    "        f_t_sigmoid = T.sigmoid(f_t)\n",
    "        g_t = self.g_t(Cat_inp)\n",
    "        g_t_sigmoid = T.sigmoid(g_t)\n",
    "        o_t = self.y_t(Cat_inp)\n",
    "        o_t = T.tanh(self.d_t(Cat_inp))\n",
    "        y_t = self.y_t_sigmoid(self.y_t(Cat_inp))\n",
    "        F_C_t = f_t * c_t_prev\n",
    "        G_D_t = g_t * o_t\n",
    "        F_G_D_t = F_C_t + G_D_t\n",
    "        C_t = self.M_l * F_G_D_t\n",
    "        L_t = T.tanh(self.L_t(T.cat((C_t, y_t), dim=1)))\n",
    "        self.M_l = (self.M_l.add(self.forget_rate * L_t)).clone()\n",
    "        h_t = T.tanh(C_t) * y_t\n",
    "        output = self.Out_softmax(self.Out(T.cat((C_t, h_t), dim=1)))\n",
    "        #print (output.shape)\n",
    "        return output, h_t, C_t\"\"\""
   ]
  },
  {
   "cell_type": "code",
   "execution_count": 23,
   "metadata": {},
   "outputs": [],
   "source": [
    "MemNet = LSTM(n_letters, 128, n_letters, device=device).to(device)"
   ]
  },
  {
   "cell_type": "code",
   "execution_count": 24,
   "metadata": {},
   "outputs": [],
   "source": [
    "criterion = nn.NLLLoss()\n",
    "\n",
    "learning_rate = 0.05\n",
    "\n",
    "def train(category_tensor, input_line_tensor, target_line_tensor):\n",
    "    target_line_tensor.unsqueeze_(-1)\n",
    "    hidden, recall = MemNet.init_hidden()\n",
    "    MemNet.zero_grad()\n",
    "    \n",
    "    loss = 0\n",
    "\n",
    "    for i in range(input_line_tensor.size(0)):\n",
    "        output, hidden, recall = MemNet(category_tensor.to(device), input_line_tensor[i].to(device), hidden, recall)\n",
    "        l = criterion(output, target_line_tensor[i].to(device))\n",
    "        loss += l\n",
    "\n",
    "    loss.backward()\n",
    "\n",
    "    for p in MemNet.parameters():\n",
    "        p.data.add_(p.grad.data, alpha=-learning_rate)\n",
    "\n",
    "    return output, loss.item() / input_line_tensor.size(0)"
   ]
  },
  {
   "cell_type": "code",
   "execution_count": 25,
   "metadata": {},
   "outputs": [],
   "source": [
    "import time\n",
    "import math\n",
    "\n",
    "def timeSince(since):\n",
    "    now = time.time()\n",
    "    s = now - since\n",
    "    m = math.floor(s / 60)\n",
    "    s -= m * 60\n",
    "    return '%dm %ds' % (m, s)"
   ]
  },
  {
   "cell_type": "code",
   "execution_count": 26,
   "metadata": {},
   "outputs": [
    {
     "name": "stdout",
     "output_type": "stream",
     "text": [
      "RKKKKKKKKYKKKKKKKKKKK\n",
      "UKKKKKKKKKKKKKKKKKKKK\n",
      "S;KKKKKKKKKKKKKKKKKKK\n",
      "G;KKKKYKKKKYKKKKYKKKK\n",
      "EzEzKKKYKKKKYKKKKYKKK\n",
      "RKKYKKKKYKKKKYKKKKYKK\n",
      "S;YYzYzzYzzAzAzAzAzAz\n",
      "PzYzYzzAzAzAzAzAzAzAz\n",
      "AzYzYzzAzAzAzAzAzAzAz\n",
      "C;AAAAAAAAAAAAAAAAAAA\n",
      "HYYKYKYKYKYKYKYKYKYKY\n",
      "IYKYKYKYKYKYKYKYKYKYK\n"
     ]
    }
   ],
   "source": [
    "max_length = 20\n",
    "\n",
    "# Sample from a category and starting letter\n",
    "def sample(category, start_letter='A'):\n",
    "    with T.no_grad():  # no need to track history in sampling\n",
    "        category_tensor = categoryTensor(category).to(device)\n",
    "        input = inputTensor(start_letter).to(device)\n",
    "        hidden,recall = MemNet.init_hidden()\n",
    "        output_name = start_letter\n",
    "\n",
    "        for i in range(max_length):\n",
    "            output, hidden, recall = MemNet(category_tensor.to(device), input[0].to(device), hidden.to(device), recall.to(device))\n",
    "            output.to(device)\n",
    "            hidden.to(device)\n",
    "            topv, topi = output.topk(1)\n",
    "            topi = topi[0][0]\n",
    "            if topi == n_letters - 1:\n",
    "                break\n",
    "            else:\n",
    "                letter = all_letters[topi]\n",
    "                output_name += letter\n",
    "            input = inputTensor(letter)\n",
    "\n",
    "        return output_name\n",
    "\n",
    "# Get multiple samples from one category and multiple starting letters\n",
    "def samples(category, start_letters='ABC'):\n",
    "    for start_letter in start_letters:\n",
    "        print(sample(category, start_letter))\n",
    "\n",
    "samples('Russian', 'RUS')\n",
    "\n",
    "samples('German', 'GER')\n",
    "\n",
    "samples('Spanish', 'SPA')\n",
    "\n",
    "samples('Chinese', 'CHI')"
   ]
  },
  {
   "cell_type": "code",
   "execution_count": null,
   "metadata": {},
   "outputs": [
    {
     "name": "stdout",
     "output_type": "stream",
     "text": [
      "0m 2s (200 0%) 2.5433\n",
      "Riaghain\n",
      "Uarah\n",
      "Salaman\n"
     ]
    },
    {
     "ename": "KeyboardInterrupt",
     "evalue": "",
     "output_type": "error",
     "traceback": [
      "\u001b[1;31m---------------------------------------------------------------------------\u001b[0m",
      "\u001b[1;31mKeyboardInterrupt\u001b[0m                         Traceback (most recent call last)",
      "\u001b[1;32mc:\\Users\\Felipe de Jesus\\OneDrive\\Documentos\\Programaciones\\VisualStudio\\MemNet\\LStMNames.ipynb Cell 14'\u001b[0m in \u001b[0;36m<cell line: 9>\u001b[1;34m()\u001b[0m\n\u001b[0;32m      <a href='vscode-notebook-cell:/c%3A/Users/Felipe%20de%20Jesus/OneDrive/Documentos/Programaciones/VisualStudio/MemNet/LStMNames.ipynb#ch0000012?line=6'>7</a>\u001b[0m start \u001b[39m=\u001b[39m time\u001b[39m.\u001b[39mtime()\n\u001b[0;32m      <a href='vscode-notebook-cell:/c%3A/Users/Felipe%20de%20Jesus/OneDrive/Documentos/Programaciones/VisualStudio/MemNet/LStMNames.ipynb#ch0000012?line=8'>9</a>\u001b[0m \u001b[39mfor\u001b[39;00m \u001b[39miter\u001b[39m \u001b[39min\u001b[39;00m \u001b[39mrange\u001b[39m(\u001b[39m1\u001b[39m, n_iters \u001b[39m+\u001b[39m \u001b[39m1\u001b[39m):\n\u001b[1;32m---> <a href='vscode-notebook-cell:/c%3A/Users/Felipe%20de%20Jesus/OneDrive/Documentos/Programaciones/VisualStudio/MemNet/LStMNames.ipynb#ch0000012?line=9'>10</a>\u001b[0m     output, loss \u001b[39m=\u001b[39m train(\u001b[39m*\u001b[39;49mrandomTrainingExample())\n\u001b[0;32m     <a href='vscode-notebook-cell:/c%3A/Users/Felipe%20de%20Jesus/OneDrive/Documentos/Programaciones/VisualStudio/MemNet/LStMNames.ipynb#ch0000012?line=10'>11</a>\u001b[0m     \u001b[39mif\u001b[39;00m loss \u001b[39m>\u001b[39m \u001b[39m1000\u001b[39m:\n\u001b[0;32m     <a href='vscode-notebook-cell:/c%3A/Users/Felipe%20de%20Jesus/OneDrive/Documentos/Programaciones/VisualStudio/MemNet/LStMNames.ipynb#ch0000012?line=11'>12</a>\u001b[0m         \u001b[39mprint\u001b[39m(\u001b[39m\"\u001b[39m\u001b[39mLoss is too high: \u001b[39m\u001b[39m\"\u001b[39m, loss)\n",
      "\u001b[1;32mc:\\Users\\Felipe de Jesus\\OneDrive\\Documentos\\Programaciones\\VisualStudio\\MemNet\\LStMNames.ipynb Cell 11'\u001b[0m in \u001b[0;36mtrain\u001b[1;34m(category_tensor, input_line_tensor, target_line_tensor)\u001b[0m\n\u001b[0;32m     <a href='vscode-notebook-cell:/c%3A/Users/Felipe%20de%20Jesus/OneDrive/Documentos/Programaciones/VisualStudio/MemNet/LStMNames.ipynb#ch0000009?line=9'>10</a>\u001b[0m loss \u001b[39m=\u001b[39m \u001b[39m0\u001b[39m\n\u001b[0;32m     <a href='vscode-notebook-cell:/c%3A/Users/Felipe%20de%20Jesus/OneDrive/Documentos/Programaciones/VisualStudio/MemNet/LStMNames.ipynb#ch0000009?line=11'>12</a>\u001b[0m \u001b[39mfor\u001b[39;00m i \u001b[39min\u001b[39;00m \u001b[39mrange\u001b[39m(input_line_tensor\u001b[39m.\u001b[39msize(\u001b[39m0\u001b[39m)):\n\u001b[1;32m---> <a href='vscode-notebook-cell:/c%3A/Users/Felipe%20de%20Jesus/OneDrive/Documentos/Programaciones/VisualStudio/MemNet/LStMNames.ipynb#ch0000009?line=12'>13</a>\u001b[0m     output, hidden, recall \u001b[39m=\u001b[39m MemNet(category_tensor\u001b[39m.\u001b[39;49mto(device), input_line_tensor[i]\u001b[39m.\u001b[39;49mto(device), hidden, recall)\n\u001b[0;32m     <a href='vscode-notebook-cell:/c%3A/Users/Felipe%20de%20Jesus/OneDrive/Documentos/Programaciones/VisualStudio/MemNet/LStMNames.ipynb#ch0000009?line=13'>14</a>\u001b[0m     l \u001b[39m=\u001b[39m criterion(output, target_line_tensor[i]\u001b[39m.\u001b[39mto(device))\n\u001b[0;32m     <a href='vscode-notebook-cell:/c%3A/Users/Felipe%20de%20Jesus/OneDrive/Documentos/Programaciones/VisualStudio/MemNet/LStMNames.ipynb#ch0000009?line=14'>15</a>\u001b[0m     loss \u001b[39m+\u001b[39m\u001b[39m=\u001b[39m l\n",
      "File \u001b[1;32m~\\miniconda3\\envs\\FLearn\\lib\\site-packages\\torch\\nn\\modules\\module.py:1110\u001b[0m, in \u001b[0;36mModule._call_impl\u001b[1;34m(self, *input, **kwargs)\u001b[0m\n\u001b[0;32m   <a href='file:///c%3A/Users/Felipe%20de%20Jesus/miniconda3/envs/FLearn/lib/site-packages/torch/nn/modules/module.py?line=1105'>1106</a>\u001b[0m \u001b[39m# If we don't have any hooks, we want to skip the rest of the logic in\u001b[39;00m\n\u001b[0;32m   <a href='file:///c%3A/Users/Felipe%20de%20Jesus/miniconda3/envs/FLearn/lib/site-packages/torch/nn/modules/module.py?line=1106'>1107</a>\u001b[0m \u001b[39m# this function, and just call forward.\u001b[39;00m\n\u001b[0;32m   <a href='file:///c%3A/Users/Felipe%20de%20Jesus/miniconda3/envs/FLearn/lib/site-packages/torch/nn/modules/module.py?line=1107'>1108</a>\u001b[0m \u001b[39mif\u001b[39;00m \u001b[39mnot\u001b[39;00m (\u001b[39mself\u001b[39m\u001b[39m.\u001b[39m_backward_hooks \u001b[39mor\u001b[39;00m \u001b[39mself\u001b[39m\u001b[39m.\u001b[39m_forward_hooks \u001b[39mor\u001b[39;00m \u001b[39mself\u001b[39m\u001b[39m.\u001b[39m_forward_pre_hooks \u001b[39mor\u001b[39;00m _global_backward_hooks\n\u001b[0;32m   <a href='file:///c%3A/Users/Felipe%20de%20Jesus/miniconda3/envs/FLearn/lib/site-packages/torch/nn/modules/module.py?line=1108'>1109</a>\u001b[0m         \u001b[39mor\u001b[39;00m _global_forward_hooks \u001b[39mor\u001b[39;00m _global_forward_pre_hooks):\n\u001b[1;32m-> <a href='file:///c%3A/Users/Felipe%20de%20Jesus/miniconda3/envs/FLearn/lib/site-packages/torch/nn/modules/module.py?line=1109'>1110</a>\u001b[0m     \u001b[39mreturn\u001b[39;00m forward_call(\u001b[39m*\u001b[39m\u001b[39minput\u001b[39m, \u001b[39m*\u001b[39m\u001b[39m*\u001b[39mkwargs)\n\u001b[0;32m   <a href='file:///c%3A/Users/Felipe%20de%20Jesus/miniconda3/envs/FLearn/lib/site-packages/torch/nn/modules/module.py?line=1110'>1111</a>\u001b[0m \u001b[39m# Do not call functions when jit is used\u001b[39;00m\n\u001b[0;32m   <a href='file:///c%3A/Users/Felipe%20de%20Jesus/miniconda3/envs/FLearn/lib/site-packages/torch/nn/modules/module.py?line=1111'>1112</a>\u001b[0m full_backward_hooks, non_full_backward_hooks \u001b[39m=\u001b[39m [], []\n",
      "\u001b[1;32mc:\\Users\\Felipe de Jesus\\OneDrive\\Documentos\\Programaciones\\VisualStudio\\MemNet\\LStMNames.ipynb Cell 8'\u001b[0m in \u001b[0;36mLSTM.forward\u001b[1;34m(self, n_categories, x, h_t_prev, c_t_prev)\u001b[0m\n\u001b[0;32m     <a href='vscode-notebook-cell:/c%3A/Users/Felipe%20de%20Jesus/OneDrive/Documentos/Programaciones/VisualStudio/MemNet/LStMNames.ipynb#ch0000016?line=13'>14</a>\u001b[0m output, (h_t, c_t) \u001b[39m=\u001b[39m \u001b[39mself\u001b[39m\u001b[39m.\u001b[39mLSTM(Cat_inp, (h_t_prev, c_t_prev))\n\u001b[0;32m     <a href='vscode-notebook-cell:/c%3A/Users/Felipe%20de%20Jesus/OneDrive/Documentos/Programaciones/VisualStudio/MemNet/LStMNames.ipynb#ch0000016?line=14'>15</a>\u001b[0m \u001b[39m#print (output.shape)\u001b[39;00m\n\u001b[1;32m---> <a href='vscode-notebook-cell:/c%3A/Users/Felipe%20de%20Jesus/OneDrive/Documentos/Programaciones/VisualStudio/MemNet/LStMNames.ipynb#ch0000016?line=15'>16</a>\u001b[0m output \u001b[39m=\u001b[39m \u001b[39mself\u001b[39;49m\u001b[39m.\u001b[39;49mOut_softmax(\u001b[39mself\u001b[39;49m\u001b[39m.\u001b[39;49mOut(output))\n\u001b[0;32m     <a href='vscode-notebook-cell:/c%3A/Users/Felipe%20de%20Jesus/OneDrive/Documentos/Programaciones/VisualStudio/MemNet/LStMNames.ipynb#ch0000016?line=16'>17</a>\u001b[0m \u001b[39mreturn\u001b[39;00m output, h_t, c_t\n",
      "File \u001b[1;32m~\\miniconda3\\envs\\FLearn\\lib\\site-packages\\torch\\nn\\modules\\module.py:1110\u001b[0m, in \u001b[0;36mModule._call_impl\u001b[1;34m(self, *input, **kwargs)\u001b[0m\n\u001b[0;32m   <a href='file:///c%3A/Users/Felipe%20de%20Jesus/miniconda3/envs/FLearn/lib/site-packages/torch/nn/modules/module.py?line=1105'>1106</a>\u001b[0m \u001b[39m# If we don't have any hooks, we want to skip the rest of the logic in\u001b[39;00m\n\u001b[0;32m   <a href='file:///c%3A/Users/Felipe%20de%20Jesus/miniconda3/envs/FLearn/lib/site-packages/torch/nn/modules/module.py?line=1106'>1107</a>\u001b[0m \u001b[39m# this function, and just call forward.\u001b[39;00m\n\u001b[0;32m   <a href='file:///c%3A/Users/Felipe%20de%20Jesus/miniconda3/envs/FLearn/lib/site-packages/torch/nn/modules/module.py?line=1107'>1108</a>\u001b[0m \u001b[39mif\u001b[39;00m \u001b[39mnot\u001b[39;00m (\u001b[39mself\u001b[39m\u001b[39m.\u001b[39m_backward_hooks \u001b[39mor\u001b[39;00m \u001b[39mself\u001b[39m\u001b[39m.\u001b[39m_forward_hooks \u001b[39mor\u001b[39;00m \u001b[39mself\u001b[39m\u001b[39m.\u001b[39m_forward_pre_hooks \u001b[39mor\u001b[39;00m _global_backward_hooks\n\u001b[0;32m   <a href='file:///c%3A/Users/Felipe%20de%20Jesus/miniconda3/envs/FLearn/lib/site-packages/torch/nn/modules/module.py?line=1108'>1109</a>\u001b[0m         \u001b[39mor\u001b[39;00m _global_forward_hooks \u001b[39mor\u001b[39;00m _global_forward_pre_hooks):\n\u001b[1;32m-> <a href='file:///c%3A/Users/Felipe%20de%20Jesus/miniconda3/envs/FLearn/lib/site-packages/torch/nn/modules/module.py?line=1109'>1110</a>\u001b[0m     \u001b[39mreturn\u001b[39;00m forward_call(\u001b[39m*\u001b[39m\u001b[39minput\u001b[39m, \u001b[39m*\u001b[39m\u001b[39m*\u001b[39mkwargs)\n\u001b[0;32m   <a href='file:///c%3A/Users/Felipe%20de%20Jesus/miniconda3/envs/FLearn/lib/site-packages/torch/nn/modules/module.py?line=1110'>1111</a>\u001b[0m \u001b[39m# Do not call functions when jit is used\u001b[39;00m\n\u001b[0;32m   <a href='file:///c%3A/Users/Felipe%20de%20Jesus/miniconda3/envs/FLearn/lib/site-packages/torch/nn/modules/module.py?line=1111'>1112</a>\u001b[0m full_backward_hooks, non_full_backward_hooks \u001b[39m=\u001b[39m [], []\n",
      "File \u001b[1;32m~\\miniconda3\\envs\\FLearn\\lib\\site-packages\\torch\\nn\\modules\\activation.py:1332\u001b[0m, in \u001b[0;36mLogSoftmax.forward\u001b[1;34m(self, input)\u001b[0m\n\u001b[0;32m   <a href='file:///c%3A/Users/Felipe%20de%20Jesus/miniconda3/envs/FLearn/lib/site-packages/torch/nn/modules/activation.py?line=1330'>1331</a>\u001b[0m \u001b[39mdef\u001b[39;00m \u001b[39mforward\u001b[39m(\u001b[39mself\u001b[39m, \u001b[39minput\u001b[39m: Tensor) \u001b[39m-\u001b[39m\u001b[39m>\u001b[39m Tensor:\n\u001b[1;32m-> <a href='file:///c%3A/Users/Felipe%20de%20Jesus/miniconda3/envs/FLearn/lib/site-packages/torch/nn/modules/activation.py?line=1331'>1332</a>\u001b[0m     \u001b[39mreturn\u001b[39;00m F\u001b[39m.\u001b[39;49mlog_softmax(\u001b[39minput\u001b[39;49m, \u001b[39mself\u001b[39;49m\u001b[39m.\u001b[39;49mdim, _stacklevel\u001b[39m=\u001b[39;49m\u001b[39m5\u001b[39;49m)\n",
      "File \u001b[1;32m~\\miniconda3\\envs\\FLearn\\lib\\site-packages\\torch\\nn\\functional.py:1907\u001b[0m, in \u001b[0;36mlog_softmax\u001b[1;34m(input, dim, _stacklevel, dtype)\u001b[0m\n\u001b[0;32m   <a href='file:///c%3A/Users/Felipe%20de%20Jesus/miniconda3/envs/FLearn/lib/site-packages/torch/nn/functional.py?line=1904'>1905</a>\u001b[0m     dim \u001b[39m=\u001b[39m _get_softmax_dim(\u001b[39m\"\u001b[39m\u001b[39mlog_softmax\u001b[39m\u001b[39m\"\u001b[39m, \u001b[39minput\u001b[39m\u001b[39m.\u001b[39mdim(), _stacklevel)\n\u001b[0;32m   <a href='file:///c%3A/Users/Felipe%20de%20Jesus/miniconda3/envs/FLearn/lib/site-packages/torch/nn/functional.py?line=1905'>1906</a>\u001b[0m \u001b[39mif\u001b[39;00m dtype \u001b[39mis\u001b[39;00m \u001b[39mNone\u001b[39;00m:\n\u001b[1;32m-> <a href='file:///c%3A/Users/Felipe%20de%20Jesus/miniconda3/envs/FLearn/lib/site-packages/torch/nn/functional.py?line=1906'>1907</a>\u001b[0m     ret \u001b[39m=\u001b[39m \u001b[39minput\u001b[39;49m\u001b[39m.\u001b[39;49mlog_softmax(dim)\n\u001b[0;32m   <a href='file:///c%3A/Users/Felipe%20de%20Jesus/miniconda3/envs/FLearn/lib/site-packages/torch/nn/functional.py?line=1907'>1908</a>\u001b[0m \u001b[39melse\u001b[39;00m:\n\u001b[0;32m   <a href='file:///c%3A/Users/Felipe%20de%20Jesus/miniconda3/envs/FLearn/lib/site-packages/torch/nn/functional.py?line=1908'>1909</a>\u001b[0m     ret \u001b[39m=\u001b[39m \u001b[39minput\u001b[39m\u001b[39m.\u001b[39mlog_softmax(dim, dtype\u001b[39m=\u001b[39mdtype)\n",
      "\u001b[1;31mKeyboardInterrupt\u001b[0m: "
     ]
    }
   ],
   "source": [
    "n_iters = 100000\n",
    "print_every = 200\n",
    "plot_every = 500\n",
    "all_losses = []\n",
    "total_loss = 0 # Reset every plot_every iters\n",
    "\n",
    "start = time.time()\n",
    "\n",
    "for iter in range(1, n_iters + 1):\n",
    "    output, loss = train(*randomTrainingExample())\n",
    "    if loss > 1000:\n",
    "        print(\"Loss is too high: \", loss)\n",
    "        print(\"Due to this output: \", output)\n",
    "    total_loss += loss\n",
    "\n",
    "    if iter % print_every == 0:\n",
    "        print('%s (%d %d%%) %.4f' % (timeSince(start), iter, iter / n_iters * 100, loss))\n",
    "        samples('Irish', 'RUS')\n",
    "\n",
    "    if iter % plot_every == 0:\n",
    "        all_losses.append(total_loss / plot_every)\n",
    "        total_loss = 0"
   ]
  },
  {
   "cell_type": "code",
   "execution_count": null,
   "metadata": {},
   "outputs": [],
   "source": [
    "#save\n",
    "T.save(MemNet.state_dict(), './modelMem.pth')"
   ]
  },
  {
   "cell_type": "code",
   "execution_count": null,
   "metadata": {},
   "outputs": [],
   "source": [
    "#Load model\n",
    "#MemNet.load_state_dict(T.load('./modelMem.pth'))"
   ]
  },
  {
   "cell_type": "code",
   "execution_count": null,
   "metadata": {},
   "outputs": [
    {
     "name": "stdout",
     "output_type": "stream",
     "text": [
      "Allar\n",
      "Brack\n",
      "Chart\n",
      "Duckerson\n",
      "Ester\n",
      "Frant\n",
      "Grack\n",
      "Harter\n",
      "Ister\n",
      "Jackson\n",
      "Krack\n",
      "Leclard\n",
      "Murthe\n",
      "Ningerson\n",
      "Ollard\n",
      "Pinter\n",
      "Qurrin\n",
      "Rimisson\n",
      "Silkar\n",
      "Track\n",
      "Urant\n",
      "Vingerson\n",
      "Willer\n",
      "Xingerson\n",
      "Youller\n",
      "Zhart\n"
     ]
    }
   ],
   "source": [
    "samples('Scottish', \"ABCDEFGHIJKLMNOPQRSTUVWXYZ\")"
   ]
  },
  {
   "cell_type": "markdown",
   "metadata": {},
   "source": []
  },
  {
   "cell_type": "code",
   "execution_count": null,
   "metadata": {},
   "outputs": [],
   "source": []
  }
 ],
 "metadata": {
  "interpreter": {
   "hash": "ee60bbdd84942d84b18f7ab23ba28b143e7a73997bd45c551fa4a1f6a51d691f"
  },
  "kernelspec": {
   "display_name": "Python 3.9.11 ('FLearn')",
   "language": "python",
   "name": "python3"
  },
  "language_info": {
   "codemirror_mode": {
    "name": "ipython",
    "version": 3
   },
   "file_extension": ".py",
   "mimetype": "text/x-python",
   "name": "python",
   "nbconvert_exporter": "python",
   "pygments_lexer": "ipython3",
   "version": "3.9.11"
  },
  "orig_nbformat": 4
 },
 "nbformat": 4,
 "nbformat_minor": 2
}
